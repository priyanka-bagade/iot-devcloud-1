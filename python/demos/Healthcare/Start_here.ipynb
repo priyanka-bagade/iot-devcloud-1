{
 "cells": [
  {
   "cell_type": "markdown",
   "metadata": {},
   "source": [
    "<a id=\"top\"></a>\n",
    "# Brain Tumor Segmentation Demo"
   ]
  },
  {
   "cell_type": "markdown",
   "metadata": {},
   "source": [
    "The Brain Tumor Segmentation Sample demonstrates the use of the [Intel® Distribution of OpenVINO™ toolkit](https://software.intel.com/openvino-toolkit) to optimize performance in a healthcare use case. The U-Net model architecture used has been trained to and predict the location of brain tumors in MRI scans.\n",
    "\n",
    "This demo has the following two implementations:\n",
    "1. Inference with the Intel® Distribution of OpenVINO™ toolkit\n",
    "2. Inference with [DNNL* (formerly Intel® MKL-DNN)](https://01.org/dnnl)"
   ]
  },
  {
   "cell_type": "markdown",
   "metadata": {},
   "source": [
    "## Inference with DNNL*: \n",
    "\n",
    "The [healthcare_no_openvino.ipynb](healthcare_no_openvino.ipynb) sample Jupyter* Notebook demonstrates the brain tumor segmentation workload performed:\n",
    "  * using stock TensorFlow* and\n",
    "  * using Intel-optimized TensorFlow* and DNNL*"
   ]
  },
  {
   "cell_type": "markdown",
   "metadata": {},
   "source": [
    "## Inference with the Intel® Distribution of OpenVINO™ toolkit:\n",
    "\n",
    "The [healthcare_openvino.ipynb](healthcare_openvino.ipynb) sample Jupyter* Notebook features the brain tumor segmentation using the Intel® Distribution of OpenVINO™ toolkit for model optimization and inference. In this implementation, the code can be executed not only on Intel® CPUs, but also on accelerators such as Intel® HD Graphics, Intel® Myriad® X VPU on Intel® Neural Compute Stick 2 and HDDL-R, and an Intel® FPGA (HDDL-F)."
   ]
  },
  {
   "cell_type": "markdown",
   "metadata": {},
   "source": [
    "## Next steps\n",
    "- [More Jupyter* Notebook Samples](https://devcloud.intel.com/edge/advanced/sample_applications/) - additional sample applications \n",
    "- [Jupyter* Notebook Tutorials](https://devcloud.intel.com/edge/get_started/tutorials) - sample application Jupyter* Notebook tutorials\n",
    "- [Intel® Distribution of OpenVINO™ toolkit Main Page](https://software.intel.com/openvino-toolkit) - learn more about the tools and use of the Intel® Distribution of OpenVINO™ toolkit for implementing inference on the edge\n"
   ]
  },
  {
   "cell_type": "markdown",
   "metadata": {},
   "source": [
    "<p style=background-color:#0071C5;color:white;padding:0.5em;display:table-cell;width:100pc;vertical-align:middle>\n",
    "<img style=float:right src=\"https://devcloud.intel.com/edge/static/images/svg/IDZ_logo.svg\" alt=\"Intel DevCloud logo\" width=\"150px\"/>\n",
    "<a style=color:white>Intel® DevCloud for the Edge</a><br>   \n",
    "<a style=color:white href=\"#top\">Top of Page</a> | \n",
    "<a style=color:white href=\"https://devcloud.intel.com/edge/static/docs/terms/Intel-DevCloud-for-the-Edge-Usage-Agreement.pdf\">Usage Agreement (Intel)</a> | \n",
    "<a style=color:white href=\"https://devcloud.intel.com/edge/static/docs/terms/Colfax_Cloud_Service_Terms_v1.3.pdf\">Service Terms (Colfax)</a>\n",
    "</p>"
   ]
  }
 ],
 "metadata": {
  "kernelspec": {
   "display_name": "Python 3 (Ubuntu)",
   "language": "python",
   "name": "c003-python_3"
  },
  "language_info": {
   "codemirror_mode": {
    "name": "ipython",
    "version": 3
   },
   "file_extension": ".py",
   "mimetype": "text/x-python",
   "name": "python",
   "nbconvert_exporter": "python",
   "pygments_lexer": "ipython3",
   "version": "3.6.9"
  },
  "toc": {
   "base_numbering": 1,
   "nav_menu": {},
   "number_sections": true,
   "sideBar": true,
   "skip_h1_title": true,
   "title_cell": "Table of Contents",
   "title_sidebar": "Contents",
   "toc_cell": false,
   "toc_position": {},
   "toc_section_display": true,
   "toc_window_display": true
  }
 },
 "nbformat": 4,
 "nbformat_minor": 2
}
