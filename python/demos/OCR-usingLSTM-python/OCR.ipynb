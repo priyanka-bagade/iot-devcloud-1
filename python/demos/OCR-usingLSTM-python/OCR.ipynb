{
 "cells": [
  {
   "cell_type": "markdown",
   "metadata": {},
   "source": [
    "###  <font color='red'>  Important: </font> Before proceeding, run the following cell to check for code updates."
   ]
  },
  {
   "cell_type": "code",
   "execution_count": null,
   "metadata": {},
   "outputs": [],
   "source": [
    "from qarpo.catalog import DemoCatalog\n",
    "import os\n",
    "status = DemoCatalog(os.getcwd(), \"Demo\").ShowRepositoryControls()"
   ]
  },
  {
   "cell_type": "markdown",
   "metadata": {},
   "source": [
    "# OCR (Optical Character Recognition)\n",
    "\n",
    "This is an example for OCR (Optical Character Recognition) using the Intel® Distribution of OpenVINO™ toolkit.  \n",
    "We will use the Convolutional Recurrent Neural Networks (CRNN) for Scene Text Recognition from the following github page : https://github.com/MaybeShewill-CV/CRNN_Tensorflow\n",
    "\n",
    "To obtain the frozen model necessary to start with the Intel® Distribution of OpenVINO™ toolkit from the github repository, please look at our [documentation](https://docs.openvinotoolkit.org/R5/_docs_MO_DG_prepare_model_convert_model_tf_specific_Convert_CRNN_From_Tensorflow.html) \n",
    "\n",
    "In this tutorial, we will show you first how to convert the TF (TensorFlow) frozen model through the Model Optimizer, then we will perform inference on the CPU (first Intel® Xeon® CPU and then Intel® Core™ CPUs).\n",
    "As the CRNN includes a LSTM (Long Short-term Memory) cell, the inference can only be performed on CPU (the only hardware plugin to support this layer yet)"
   ]
  },
  {
   "cell_type": "markdown",
   "metadata": {},
   "source": [
    "### Install required library"
   ]
  },
  {
   "cell_type": "code",
   "execution_count": null,
   "metadata": {},
   "outputs": [],
   "source": [
    "try:\n",
    "    from easydict import EasyDict\n",
    "    print(\"EasyDict installed\")\n",
    "except:\n",
    "    !pip3 install --user easydict\n",
    "    print(\"To import easydict, please restart the kernel\")"
   ]
  },
  {
   "cell_type": "markdown",
   "metadata": {},
   "source": [
    "## Model Optimizer\n",
    "\n",
    "\n",
    "Model Optimizer creates Intermediate Representation (IR) models that are optimized for inference. \n"
   ]
  },
  {
   "cell_type": "code",
   "execution_count": null,
   "metadata": {},
   "outputs": [],
   "source": [
    "!/opt/intel/openvino/deployment_tools/model_optimizer/mo_tf.py \\\n",
    "--input_model model/crnn.pb \\\n",
    "--data_type FP32 \\\n",
    "-o model/FP32 \\\n",
    "--silent"
   ]
  },
  {
   "cell_type": "code",
   "execution_count": null,
   "metadata": {},
   "outputs": [],
   "source": [
    "!/opt/intel/openvino/deployment_tools/model_optimizer/mo_tf.py \\\n",
    "--input_model model/crnn.pb \\\n",
    "--data_type FP16 \\\n",
    "-o model/FP16 \\\n",
    "--silent"
   ]
  },
  {
   "cell_type": "markdown",
   "metadata": {},
   "source": [
    "We will do OCR on the following input image, which obviously reads as **Industries**.\n",
    "![Image](board4.jpg)"
   ]
  },
  {
   "cell_type": "markdown",
   "metadata": {},
   "source": [
    "#### Compile the CPU extension lib:"
   ]
  },
  {
   "cell_type": "code",
   "execution_count": null,
   "metadata": {},
   "outputs": [],
   "source": [
    "!/opt/intel/openvino/deployment_tools/inference_engine/samples/build_samples.sh"
   ]
  },
  {
   "cell_type": "markdown",
   "metadata": {},
   "source": [
    "## Import libraries and configuration file for widget management."
   ]
  },
  {
   "cell_type": "code",
   "execution_count": null,
   "metadata": {},
   "outputs": [],
   "source": [
    "import qarpo\n",
    "import json\n",
    "\n",
    "with open('job_config.json') as json_file:\n",
    "    data = json.load(json_file)"
   ]
  },
  {
   "cell_type": "markdown",
   "metadata": {},
   "source": [
    "## Display available options for Intel® Edge compute hardware and acceleration, results and performance summary."
   ]
  },
  {
   "cell_type": "code",
   "execution_count": null,
   "metadata": {},
   "outputs": [],
   "source": [
    "interface = qarpo.Interface(data)\n",
    "interface.displayUI()"
   ]
  }
 ],
 "metadata": {
  "kernelspec": {
   "display_name": "Python 3 (Ubuntu)",
   "language": "python",
   "name": "c003-python_3"
  },
  "language_info": {
   "codemirror_mode": {
    "name": "ipython",
    "version": 3
   },
   "file_extension": ".py",
   "mimetype": "text/x-python",
   "name": "python",
   "nbconvert_exporter": "python",
   "pygments_lexer": "ipython3",
   "version": "3.6.9"
  }
 },
 "nbformat": 4,
 "nbformat_minor": 4
}
